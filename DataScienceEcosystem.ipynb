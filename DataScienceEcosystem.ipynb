{
  "cells": [
    {
      "cell_type": "markdown",
      "metadata": {
        "id": "view-in-github",
        "colab_type": "text"
      },
      "source": [
        "<a href=\"https://colab.research.google.com/github/MohammedMM2020/DataScienceEcosystem/blob/main/DataScienceEcosystem.ipynb\" target=\"_parent\"><img src=\"https://colab.research.google.com/assets/colab-badge.svg\" alt=\"Open In Colab\"/></a>"
      ]
    },
    {
      "cell_type": "markdown",
      "id": "554d17b6",
      "metadata": {
        "id": "554d17b6"
      },
      "source": [
        "# Data Science Tools and Ecosystem"
      ]
    },
    {
      "cell_type": "markdown",
      "id": "1ee90a45",
      "metadata": {
        "id": "1ee90a45"
      },
      "source": [
        "In this notebook, Data Science Tools and Ecosystem are summarized."
      ]
    },
    {
      "cell_type": "markdown",
      "id": "fab06d4a",
      "metadata": {
        "id": "fab06d4a"
      },
      "source": [
        "Some of the popular languages that Data Scientists use are:\n",
        "\n",
        "1. Python\n",
        "2. R\n",
        "3. Julia\n",
        "4. SQL\n"
      ]
    },
    {
      "cell_type": "markdown",
      "id": "91168e4b",
      "metadata": {
        "id": "91168e4b"
      },
      "source": [
        "Some of the commonly used libraries used by Data Scientists include:\n",
        "\n",
        "1. NumPy\n",
        "2. Keras\n",
        "3. Pandas\n",
        "4. PyTorch\n"
      ]
    },
    {
      "cell_type": "markdown",
      "id": "b353cb7e",
      "metadata": {
        "id": "b353cb7e"
      },
      "source": [
        "| Data Science Tools |\n",
        "|--------------------|\n",
        "|  Jupyter Notebook  |\n",
        "|     RStudio        |\n",
        "|VSCode with Python extension|"
      ]
    },
    {
      "cell_type": "markdown",
      "id": "d771a778",
      "metadata": {
        "id": "d771a778"
      },
      "source": [
        "# Below are a few examples of evaluating arithmetic expressions in Python"
      ]
    },
    {
      "cell_type": "code",
      "execution_count": null,
      "id": "61998cec",
      "metadata": {
        "id": "61998cec",
        "outputId": "f971a674-7f36-4a9f-d48e-e6da6d7c813c"
      },
      "outputs": [
        {
          "data": {
            "text/plain": [
              "17"
            ]
          },
          "execution_count": 1,
          "metadata": {},
          "output_type": "execute_result"
        }
      ],
      "source": [
        "#This a simple arithmetic expression to mutiply then add integers\n",
        "result = (3 * 4) + 5\n",
        "result"
      ]
    },
    {
      "cell_type": "code",
      "execution_count": null,
      "id": "305ba83a",
      "metadata": {
        "id": "305ba83a",
        "outputId": "86ea4e5e-657a-430a-8e25-759db0beb9b1"
      },
      "outputs": [
        {
          "data": {
            "text/plain": [
              "3.3333333333333335"
            ]
          },
          "execution_count": 2,
          "metadata": {},
          "output_type": "execute_result"
        }
      ],
      "source": [
        "# This will convert 200 minutes to hours by dividing by 60.\n",
        "minutes = 200\n",
        "hours = minutes / 60\n",
        "hours"
      ]
    },
    {
      "cell_type": "markdown",
      "id": "a40482e7",
      "metadata": {
        "id": "a40482e7"
      },
      "source": [
        "**Objectives:**\n",
        "\n",
        "- List popular languages for Data Science.\n",
        "- Introduce common open-source tools for Data Science.\n",
        "- Explain basic mathematical operations in Python.\n",
        "- Demonstrate how to convert units of time in Python.\n",
        "- Provide an overview of key concepts in Data Science.\n"
      ]
    },
    {
      "cell_type": "markdown",
      "id": "48f819b6",
      "metadata": {
        "id": "48f819b6"
      },
      "source": [
        "# Author"
      ]
    },
    {
      "cell_type": "markdown",
      "id": "60f9c5f1",
      "metadata": {
        "id": "60f9c5f1"
      },
      "source": [
        "Mohammed Mofareh Alshamrani"
      ]
    }
  ],
  "metadata": {
    "kernelspec": {
      "display_name": "Python 3 (ipykernel)",
      "language": "python",
      "name": "python3"
    },
    "language_info": {
      "codemirror_mode": {
        "name": "ipython",
        "version": 3
      },
      "file_extension": ".py",
      "mimetype": "text/x-python",
      "name": "python",
      "nbconvert_exporter": "python",
      "pygments_lexer": "ipython3",
      "version": "3.9.12"
    },
    "colab": {
      "provenance": [],
      "include_colab_link": true
    }
  },
  "nbformat": 4,
  "nbformat_minor": 5
}